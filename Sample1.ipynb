{
 "cells": [
  {
   "cell_type": "code",
   "execution_count": 5,
   "id": "2789da42-8928-467c-91df-e1d8e4fc9edf",
   "metadata": {},
   "outputs": [
    {
     "name": "stdout",
     "output_type": "stream",
     "text": [
      "Hello\n"
     ]
    }
   ],
   "source": [
    "print(\"Hello\")"
   ]
  },
  {
   "cell_type": "code",
   "execution_count": 3,
   "id": "486ea0c1-22db-4f9c-9cf0-758935743d64",
   "metadata": {},
   "outputs": [
    {
     "name": "stdout",
     "output_type": "stream",
     "text": [
      "sum of a and b is 13\n"
     ]
    }
   ],
   "source": [
    "a = 10\n",
    "b= 3\n",
    "print(\"sum of a and b is \" + str(a+b))"
   ]
  },
  {
   "cell_type": "code",
   "execution_count": 6,
   "id": "c9c20984-87b3-476f-be5a-90867c8ceb2f",
   "metadata": {},
   "outputs": [
    {
     "name": "stdout",
     "output_type": "stream",
     "text": [
      "0\n",
      "1\n",
      "2\n",
      "3\n",
      "4\n",
      "5\n"
     ]
    }
   ],
   "source": [
    "for x in range (6):\n",
    "    print (x)"
   ]
  },
  {
   "cell_type": "code",
   "execution_count": 7,
   "id": "e07ba587-5bcf-4f60-9ca1-16d47a77f361",
   "metadata": {},
   "outputs": [
    {
     "name": "stdout",
     "output_type": "stream",
     "text": [
      "0\n",
      "1\n",
      "2\n"
     ]
    }
   ],
   "source": [
    "for x in range (6):\n",
    "    if x == 3 :\n",
    "        break\n",
    "    print (x)"
   ]
  },
  {
   "cell_type": "markdown",
   "id": "dbfaba47-0260-4e96-8151-c142acd963a3",
   "metadata": {},
   "source": [
    "for x in range (6) :\n",
    "    if x==3 :\n",
    "    continue\n",
    "    print (x)"
   ]
  },
  {
   "cell_type": "code",
   "execution_count": 8,
   "id": "2f51e2b3-de1f-4206-b4bf-33620bad3e6c",
   "metadata": {},
   "outputs": [
    {
     "name": "stdout",
     "output_type": "stream",
     "text": [
      "0\n",
      "1\n",
      "2\n",
      "4\n",
      "5\n"
     ]
    }
   ],
   "source": [
    "for x in range (6) :\n",
    "     if x==3 : \n",
    "         continue \n",
    "     print (x)"
   ]
  },
  {
   "cell_type": "code",
   "execution_count": 9,
   "id": "aabb3f67-ad95-4f81-82b3-04e713624b65",
   "metadata": {},
   "outputs": [
    {
     "name": "stdout",
     "output_type": "stream",
     "text": [
      "the sum of a and b is 20\n"
     ]
    }
   ],
   "source": [
    "def sumfunc(a,b) :\n",
    "    print (\"the sum of a and b is \"+ str(a+b))\n",
    "\n",
    "sumfunc(10,10)"
   ]
  },
  {
   "cell_type": "code",
   "execution_count": null,
   "id": "02348c89-ff84-482c-b64c-cefe9b9f40ed",
   "metadata": {},
   "outputs": [],
   "source": []
  }
 ],
 "metadata": {
  "kernelspec": {
   "display_name": "Python 3 (ipykernel)",
   "language": "python",
   "name": "python3"
  },
  "language_info": {
   "codemirror_mode": {
    "name": "ipython",
    "version": 3
   },
   "file_extension": ".py",
   "mimetype": "text/x-python",
   "name": "python",
   "nbconvert_exporter": "python",
   "pygments_lexer": "ipython3",
   "version": "3.12.4"
  }
 },
 "nbformat": 4,
 "nbformat_minor": 5
}
